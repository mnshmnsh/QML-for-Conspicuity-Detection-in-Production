{
 "cells": [
  {
   "cell_type": "markdown",
   "id": "fb2abc68-f0c7-4c56-9d7a-1bb7bd7f252a",
   "metadata": {},
   "source": [
    "### Quanvolutional Neural Networks\n",
    "\n",
    "**Author:** Andrea Mari  \n",
    "**Published:** March 24, 2020  \n",
    "**Last Updated:** January 1, 2024  \n",
    "\n",
    "---\n",
    "\n",
    "**Introduction**\n",
    "\n",
    "In this demo, we implement the Quanvolutional Neural Network (QNN), a quantum machine learning model first introduced by Henderson et al. (2019). The Quanvolutional Neural Network represents an innovative extension of classical convolutional techniques into the quantum domain.\n",
    "\n",
    "---\n",
    "\n",
    "**Classical Convolution**\n",
    "\n",
    "Convolutional Neural Networks (CNNs) are a cornerstone of classical machine learning, especially for image processing tasks. The core idea of CNNs is to apply a convolutional layer that processes data locally rather than globally. Here’s a breakdown:\n",
    "\n",
    "1. **Local Processing**: Instead of analyzing the entire image in one go, CNNs use small, local regions of the image. A kernel (or filter) is applied to these small regions to extract features.\n",
    "   \n",
    "2. **Kernel Application**: The kernel moves across the image, processing each local region independently. This results in an output that is organized into channels, each representing different features extracted from the image.\n",
    "\n",
    "3. **Output Formation**: The results from the convolution are combined to form a new image-like object, which can then be fed into subsequent layers for further processing and feature extraction.\n",
    "\n",
    "---\n",
    "\n",
    "**Quantum Convolution**\n",
    "\n",
    "The concept of convolution can be adapted to quantum computing by employing quantum variational circuits. Here’s how this adaptation works:\n",
    "\n",
    "1. **Embedding Regions**: A local region of the input image, such as a 2 × 2 square, is encoded into a quantum circuit. This encoding involves applying parameterized rotations to qubits that are initially in the ground state.\n",
    "\n",
    "2. **Quantum Computation**: A quantum operation, represented by a unitary matrix \\( U \\), is performed on the qubits. This unitary operation can be generated either by a variational quantum circuit or a random quantum circuit, as discussed in Ref. [1].\n",
    "\n",
    "3. **Measurement and Output**: After the quantum computation, the system is measured to obtain classical expectation values. Although these values could be post-processed, this demo directly uses the raw expectation values for simplicity.\n",
    "\n",
    "4. **Mapping to Output**: Each expectation value from the quantum measurement corresponds to a channel in the output pixel, similar to how each feature map is assigned in a classical convolution layer.\n",
    "\n",
    "5. **Image Scanning**: By repeating this process over different regions of the input image, the quantum convolution produces a multi-channel output image, which can be processed by additional quantum or classical layers.\n",
    "\n",
    "---\n",
    "\n",
    "**Comparison with Classical Convolution**\n",
    "\n",
    "- **Complex Kernels**: Unlike classical convolutional layers, quantum circuits can potentially generate complex kernels that may be classically intractable. This capability allows for the exploration of more intricate feature extraction mechanisms.\n",
    "\n",
    "- **Fixed vs. Trainable Kernels**: In this tutorial, we use a fixed, non-trainable quantum circuit as the \"quanvolution\" kernel. The subsequent classical layers are trained for classification. However, it is also possible to train the quantum kernel itself, leveraging PennyLane's capability to compute gradients of quantum circuits.\n",
    "\n",
    "---\n",
    "\n",
    "This demo illustrates how classical concepts can be extended into the quantum realm, offering a glimpse into the potential advantages and novel approaches of quantum machine learning."
   ]
  },
  {
   "cell_type": "code",
   "execution_count": 1,
   "id": "75069a8b-803c-4c1a-8088-0e8bfdaac5b7",
   "metadata": {
    "tags": []
   },
   "outputs": [
    {
     "name": "stdout",
     "output_type": "stream",
     "text": [
      "Note: you may need to restart the kernel to use updated packages.\n"
     ]
    }
   ],
   "source": [
    "%pip install -q --upgrade pip "
   ]
  },
  {
   "cell_type": "code",
   "execution_count": 1,
   "id": "588c34f7-ed4f-4ac8-9cd3-9d93112d4bb0",
   "metadata": {
    "tags": []
   },
   "outputs": [
    {
     "name": "stdout",
     "output_type": "stream",
     "text": [
      "Note: you may need to restart the kernel to use updated packages.\n"
     ]
    }
   ],
   "source": [
    "%pip install -q tensorrt"
   ]
  },
  {
   "cell_type": "code",
   "execution_count": 1,
   "id": "29b0cfb7-b406-427e-9751-1f5e33892dc2",
   "metadata": {
    "tags": []
   },
   "outputs": [],
   "source": [
    "import tensorrt as trt\n",
    "from tensorrt import *"
   ]
  },
  {
   "cell_type": "code",
   "execution_count": 2,
   "id": "4186a3e6-d055-41cd-9f95-28796eb96c5b",
   "metadata": {
    "tags": []
   },
   "outputs": [
    {
     "name": "stdout",
     "output_type": "stream",
     "text": [
      "Note: you may need to restart the kernel to use updated packages.\n"
     ]
    }
   ],
   "source": [
    "%pip install -q torch "
   ]
  },
  {
   "cell_type": "code",
   "execution_count": 1,
   "id": "b76d91e7-5689-48e5-aac7-de37eda6e87d",
   "metadata": {
    "tags": []
   },
   "outputs": [],
   "source": [
    "import torch\n",
    "from torch import *"
   ]
  },
  {
   "cell_type": "code",
   "execution_count": null,
   "id": "01cdf726-faff-4ef7-b0ee-28bb40367e22",
   "metadata": {},
   "outputs": [],
   "source": [
    "%pip install -q pennylane\n",
    "%pip install -q tensorflow"
   ]
  },
  {
   "cell_type": "code",
   "execution_count": 2,
   "id": "65244bad-bbb0-4abf-9a69-7bebf239ad2e",
   "metadata": {
    "tags": []
   },
   "outputs": [
    {
     "name": "stderr",
     "output_type": "stream",
     "text": [
      "2024-08-10 00:19:46.978826: I tensorflow/core/util/port.cc:153] oneDNN custom operations are on. You may see slightly different numerical results due to floating-point round-off errors from different computation orders. To turn them off, set the environment variable `TF_ENABLE_ONEDNN_OPTS=0`.\n",
      "2024-08-10 00:19:47.003879: E external/local_xla/xla/stream_executor/cuda/cuda_fft.cc:485] Unable to register cuFFT factory: Attempting to register factory for plugin cuFFT when one has already been registered\n",
      "2024-08-10 00:19:47.023380: E external/local_xla/xla/stream_executor/cuda/cuda_dnn.cc:8454] Unable to register cuDNN factory: Attempting to register factory for plugin cuDNN when one has already been registered\n",
      "2024-08-10 00:19:47.029413: E external/local_xla/xla/stream_executor/cuda/cuda_blas.cc:1452] Unable to register cuBLAS factory: Attempting to register factory for plugin cuBLAS when one has already been registered\n",
      "2024-08-10 00:19:47.044221: I tensorflow/core/platform/cpu_feature_guard.cc:210] This TensorFlow binary is optimized to use available CPU instructions in performance-critical operations.\n",
      "To enable the following instructions: AVX2 AVX512F AVX512_VNNI FMA, in other operations, rebuild TensorFlow with the appropriate compiler flags.\n",
      "2024-08-10 00:19:49.528483: W tensorflow/compiler/tf2tensorrt/utils/py_utils.cc:38] TF-TRT Warning: Could not find TensorRT\n"
     ]
    }
   ],
   "source": [
    "#This Python code requires PennyLane with the TensorFlow interface and the plotting library matplotlib.\n",
    "\n",
    "import pennylane as qml\n",
    "from pennylane import numpy as np\n",
    "from pennylane.templates import RandomLayers\n",
    "import tensorflow as tf\n",
    "from tensorflow import keras\n",
    "import matplotlib.pyplot as plt\n",
    "#import numpy as np "
   ]
  },
  {
   "cell_type": "markdown",
   "id": "3e10abfb-8fef-4932-af72-53163f150eef",
   "metadata": {
    "tags": []
   },
   "source": [
    "## Hyperparameters"
   ]
  },
  {
   "cell_type": "code",
   "execution_count": 3,
   "id": "62e84244-2d43-4ad2-b81c-eb37980b617e",
   "metadata": {
    "tags": []
   },
   "outputs": [],
   "source": [
    "#Setting of the main hyper-parameters of the model¶\n",
    "n_epochs = 30  # Number of optimization epochs\n",
    "n_layers = 1    # Number of random layers\n",
    "n_train = 50    # Size of the train dataset\n",
    "n_test = 30     # Size of the test dataset\n",
    "\n",
    "#SAVE_PATH = \"../_static/demonstration_assets/quanvolution/\"  # Data saving folder\n",
    " \n",
    "SAVE_PATH = \"quanvolution/\"\n",
    "PREPROCESS = True           # If False, skip quantum processing and load data from SAVE_PATH\n",
    "np.random.seed(0)           # Seed for NumPy random number generator\n",
    "tf.random.set_seed(0)       # Seed for TensorFlow random number generator"
   ]
  },
  {
   "cell_type": "markdown",
   "id": "d8461377-6e40-4a04-8011-8f0bc6936d47",
   "metadata": {
    "tags": []
   },
   "source": [
    "### Loading the MNIST Dataset\n",
    "\n",
    "In this section, we will focus on preparing the MNIST dataset, a classic benchmark used for handwritten digit recognition tasks. Here's how we approach this process:\n",
    "\n",
    "1. **Importing the Dataset**:\n",
    "   The MNIST dataset is imported using the Keras library, which provides an easy interface for accessing various standard datasets. This dataset comprises grayscale images of handwritten digits, each with a resolution of 28 × 28 pixels.\n",
    "\n",
    "2. **Data Preparation**:\n",
    "   The MNIST dataset is conventionally divided into training and test sets. For this demonstration, we will utilize a smaller subset of both sets to speed up evaluation. Specifically, we will select a limited number of images from each set. This approach allows for faster experimentation but may not fully reflect the performance on the entire dataset.\n",
    "\n",
    "3. **Data Normalization**:\n",
    "   Normalizing the pixel values of the images is a crucial step to enhance model training. The original pixel values range from 0 to 255. By scaling these values to a range between 0 and 1, we help ensure that the training process is more effective and that the model converges more reliably.\n",
    "\n",
    "4. **Data Reshaping**:\n",
    "   The MNIST images are initially represented as 2D arrays (28 × 28 pixels). Depending on the requirements of the model or framework being used, we may need to reshape the images. For instance, reshaping to a 4D tensor format might be necessary for models that expect input data in this structure.\n",
    "\n",
    "5. **Evaluation Considerations**:\n",
    "   Although using a reduced subset of the MNIST dataset facilitates quicker evaluations, it's important to understand that a more comprehensive assessment requires training and testing on the full dataset. The results obtained from this limited subset are indicative but should be supplemented with experiments on the complete dataset to fully gauge model performance.\n",
    "\n",
    "This preparation ensures that the MNIST data is appropriately formatted and normalized for use in various machine learning models, including both quantum and classical approaches."
   ]
  },
  {
   "cell_type": "markdown",
   "id": "b744891b-082f-4409-9314-023db5e8fbf1",
   "metadata": {
    "tags": []
   },
   "source": [
    "### Loading and Preprocessing the MNIST Dataset\n",
    "\n",
    "1. **Loading the Dataset**:\n",
    "   We start by importing the MNIST dataset using Keras. This dataset consists of images of handwritten digits and their corresponding labels. We load the dataset into separate variables for training and testing.\n",
    "\n",
    "   ```python\n",
    "   mnist_dataset = keras.datasets.mnist\n",
    "   (train_images, train_labels), (test_images, test_labels) = mnist_dataset.load_data()\n",
    "   ```\n",
    "\n",
    "2. **Reducing Dataset Size**:\n",
    "   To speed up computations, we reduce the size of both the training and test datasets. We achieve this by selecting only the first `n_train` training images and labels, and the first `n_test` test images and labels. This subset of data will be used for training and evaluating the model.\n",
    "\n",
    "   ```python\n",
    "   train_images = train_images[:n_train]\n",
    "   train_labels = train_labels[:n_train]\n",
    "   test_images = test_images[:n_test]\n",
    "   test_labels = test_labels[:n_test]\n",
    "   ```\n",
    "\n",
    "3. **Normalizing Pixel Values**:\n",
    "   Pixel values in the MNIST dataset range from 0 to 255. To normalize these values for better model performance, we scale the pixel values to a range between 0 and 1. This is done by dividing each pixel value by 255, which ensures consistent and standardized input data for the model.\n",
    "\n",
    "   ```python\n",
    "   train_images = train_images / 255\n",
    "   test_images = test_images / 255\n",
    "   ```\n",
    "\n",
    "4. **Adding Extra Dimension for Convolution Channels**:\n",
    "   To prepare the data for convolutional operations, we add an extra dimension to the images. This dimension represents the number of channels in the image, which is necessary for convolutional layers. For single-channel grayscale images, this dimension is added to match the expected input shape of `(batch_size, height, width, channels)`.\n",
    "\n",
    "   ```python\n",
    "   train_images = np.array(train_images[..., tf.newaxis], requires_grad=False)\n",
    "   test_images = np.array(test_images[..., tf.newaxis], requires_grad=False)\n",
    "   ```\n",
    "\n"
   ]
  },
  {
   "cell_type": "code",
   "execution_count": 4,
   "id": "d0aad0a6-f21c-40bd-96f9-8cd4df00411f",
   "metadata": {
    "tags": []
   },
   "outputs": [],
   "source": [
    "from pennylane import numpy as np\n",
    "#Setting of the main hyper-parameters of the model¶\n",
    "n_epochs = 30  # Number of optimization epochs\n",
    "n_layers = 1    # Number of random layers\n",
    "n_train = 50    # Size of the train dataset\n",
    "n_test = 30     # Size of the test dataset\n",
    "\n",
    "#SAVE_PATH = \"../_static/demonstration_assets/quanvolution/\"  # Data saving folder\n",
    " \n",
    "SAVE_PATH = \"quanvolution/\"\n",
    "PREPROCESS = True           # If False, skip quantum processing and load data from SAVE_PATH\n",
    "np.random.seed(0)           # Seed for NumPy random number generator\n",
    "tf.random.set_seed(0)       # Seed for TensorFlow random number generator"
   ]
  },
  {
   "cell_type": "code",
   "execution_count": 5,
   "id": "4c87219a-866a-4923-b6a3-f314869284d0",
   "metadata": {
    "tags": []
   },
   "outputs": [
    {
     "data": {
      "image/png": "[encoded data removed]",
      "text/plain": [
       "<Figure size 640x480 with 1 Axes>"
      ]
     },
     "metadata": {},
     "output_type": "display_data"
    }
   ],
   "source": [
    "mnist_dataset = keras.datasets.mnist\n",
    "(train_images, train_labels), (test_images, test_labels) = mnist_dataset.load_data()\n",
    "\n",
    "# Reduce dataset size\n",
    "train_images = train_images[:n_train]\n",
    "train_labels = train_labels[:n_train]\n",
    "test_images = test_images[:n_test]\n",
    "test_labels = test_labels[:n_test]\n",
    "\n",
    "# Normalize pixel values within 0 and 1\n",
    "train_images = train_images / 255\n",
    "test_images = test_images / 255\n",
    "\n",
    "# Add extra dimension for convolution channels\n",
    "train_images = np.array(train_images[..., tf.newaxis], requires_grad=False)\n",
    "test_images = np.array(test_images[..., tf.newaxis], requires_grad=False)\n",
    "\n",
    "# Display the first image in the training set\n",
    "plt.imshow(train_images[0].squeeze(), cmap='gray')\n",
    "plt.title(f\"Label: {train_labels[0]}\")\n",
    "plt.show()"
   ]
  },
  {
   "cell_type": "code",
   "execution_count": 17,
   "id": "f929950c-e58a-4bc9-aeaa-26243fec0c52",
   "metadata": {
    "tags": []
   },
   "outputs": [
    {
     "data": {
      "text/plain": [
       "50"
      ]
     },
     "execution_count": 17,
     "metadata": {},
     "output_type": "execute_result"
    }
   ],
   "source": [
    "len(train_images) "
   ]
  },
  {
   "cell_type": "code",
   "execution_count": 18,
   "id": "efd43656-8dd6-4720-a143-bcd68fe60250",
   "metadata": {
    "tags": []
   },
   "outputs": [
    {
     "data": {
      "text/plain": [
       "50"
      ]
     },
     "execution_count": 18,
     "metadata": {},
     "output_type": "execute_result"
    }
   ],
   "source": [
    "len(train_images) "
   ]
  },
  {
   "cell_type": "markdown",
   "id": "f9cdfa2f-5f50-4b9a-815b-a5b1fc985f8b",
   "metadata": {
    "tags": []
   },
   "source": [
    "\n",
    "### Quantum Circuit as a Convolution Kernel\n",
    "\n",
    "1. **Initializing the Quantum Device**:\n",
    "   We set up a quantum simulator using PennyLane’s `default.qubit` device. This simulator represents a quantum system consisting of 4 qubits, which will be used to perform quantum computations for convolution operations.\n",
    "\n",
    "2. **Quantum Circuit Components**:\n",
    "   - **Embedding Layer**: This layer involves applying local `R_y` rotations to each qubit. The angles for these rotations are scaled by a factor of π. This embedding prepares the qubits for further quantum operations.\n",
    "   - **Random Circuit**: A quantum circuit with `n_layers` is used to introduce variability and complexity. This random circuit serves as the convolution kernel, processing the input data.\n",
    "   - **Measurement**: The quantum circuit is measured in the computational basis, yielding 4 expectation values. These values represent the output of the quantum convolution operation, capturing the features extracted by the quantum circuit.\n",
    "\n",
    "By following these steps, we integrate quantum computing into image processing tasks, leveraging the unique capabilities of quantum circuits to perform convolution operations on the MNIST dataset."
   ]
  },
  {
   "cell_type": "markdown",
   "id": "fc49c25b-0666-48ec-8fd1-22947a365e4b",
   "metadata": {},
   "source": [
    "### Defining the Convolution Scheme\n",
    "\n",
    "In this section, we describe the process of applying a quantum convolutional scheme to an image. This process involves several key steps:\n",
    "\n",
    "1. **Dividing the Image into Local Regions**:\n",
    "   - The image is partitioned into small squares, each measuring \\(2 \\times 2\\) pixels. This segmentation allows us to process localized regions of the image independently, which is crucial for convolutional operations.\n",
    "\n",
    "2. **Processing Each Square with the Quantum Circuit**:\n",
    "   - Each \\(2 \\times 2\\) pixel square is fed into the quantum circuit. This circuit, which consists of parameterized quantum gates, performs a series of quantum operations on the qubits representing the pixel values. The quantum computation associated with each local region generates a set of expectation values.\n",
    "\n",
    "3. **Mapping Expectation Values to Output Channels**:\n",
    "   - After processing each \\(2 \\times 2\\) pixel square, the quantum circuit outputs 4 expectation values. These values are then mapped to 4 different channels of a single output pixel. Essentially, each expectation value contributes to a different feature channel, capturing distinct aspects of the local region.\n",
    "\n",
    "This convolution scheme results in a reduction of the image resolution. Specifically, the original image resolution is halved, akin to performing a convolution with a \\(2 \\times 2\\) kernel and a stride of 2 in traditional convolutional neural networks (CNNs). This stride effectively down-samples the image, reducing its size while preserving essential features extracted by the quantum convolution operation."
   ]
  },
  {
   "cell_type": "code",
   "execution_count": 6,
   "id": "38ba8ad6-50e8-42ed-b50f-45fa78b128eb",
   "metadata": {
    "tags": []
   },
   "outputs": [],
   "source": [
    "dev = qml.device(\"default.qubit\", wires=4)\n",
    "# Random circuit parameters\n",
    "rand_params = np.random.uniform(high=2 * np.pi, size=(n_layers, 4))\n",
    "\n",
    "@qml.qnode(dev)\n",
    "def circuit(phi):\n",
    "    # Encoding of 4 classical input values\n",
    "    for j in range(4):\n",
    "        qml.RY(np.pi * phi[j], wires=j)\n",
    "\n",
    "    # Random quantum circuit\n",
    "    RandomLayers(rand_params, wires=list(range(4)))\n",
    "\n",
    "    # Measurement producing 4 classical output values\n",
    "    return [qml.expval(qml.PauliZ(j)) for j in range(4)]"
   ]
  },
  {
   "cell_type": "code",
   "execution_count": 7,
   "id": "3d0c8ea7-d9ee-41b2-9f51-8860ddc91a61",
   "metadata": {
    "tags": []
   },
   "outputs": [
    {
     "name": "stdout",
     "output_type": "stream",
     "text": [
      "0: ──RY(1.33)─╭RandomLayers(M0)─┤  <Z>\n",
      "1: ──RY(2.03)─├RandomLayers(M0)─┤  <Z>\n",
      "2: ──RY(1.37)─├RandomLayers(M0)─┤  <Z>\n",
      "3: ──RY(2.80)─╰RandomLayers(M0)─┤  <Z>\n"
     ]
    }
   ],
   "source": [
    "# Example input to the circuit\n",
    "phi = np.random.uniform(size=4)\n",
    "# Draw the circuit\n",
    "drawer = qml.draw(circuit)\n",
    "print(drawer(phi))"
   ]
  },
  {
   "cell_type": "code",
   "execution_count": 8,
   "id": "db23765b-a59c-45c3-8d77-90a10ef7b368",
   "metadata": {
    "tags": []
   },
   "outputs": [
    {
     "data": {
      "image/png": "[encoded data removed]",
      "text/plain": [
       "<Figure size 500x500 with 1 Axes>"
      ]
     },
     "metadata": {},
     "output_type": "display_data"
    }
   ],
   "source": [
    "# Draw the circuit\n",
    "qml.drawer.use_style(\"black_white\")\n",
    "fig, ax = qml.draw_mpl(circuit)(np.random.randn(4 ))\n",
    "plt.show()"
   ]
  },
  {
   "cell_type": "code",
   "execution_count": 9,
   "id": "cb63353f-37f9-423c-98c0-f92b3d6aea76",
   "metadata": {
    "tags": []
   },
   "outputs": [],
   "source": [
    "def quanv(image):\n",
    "    \"\"\"Convolves the input image with many applications of the same quantum circuit.\"\"\"\n",
    "    out = np.zeros((14, 14, 4))\n",
    "\n",
    "    # Loop over the coordinates of the top-left pixel of 2X2 squares\n",
    "    for j in range(0, 28, 2):\n",
    "        for k in range(0, 28, 2):\n",
    "            # Process a squared 2x2 region of the image with a quantum circuit\n",
    "            q_results = circuit(\n",
    "                [\n",
    "                    image[j, k, 0],\n",
    "                    image[j, k + 1, 0],\n",
    "                    image[j + 1, k, 0],\n",
    "                    image[j + 1, k + 1, 0]\n",
    "                ]\n",
    "            )\n",
    "            # Assign expectation values to different channels of the output pixel (j/2, k/2)\n",
    "            for c in range(4):\n",
    "                out[j // 2, k // 2, c] = q_results[c]\n",
    "    return out"
   ]
  },
  {
   "cell_type": "markdown",
   "id": "c5e35d19-e502-4106-b010-976db7c85a90",
   "metadata": {},
   "source": [
    "### Quantum Pre-Processing of the Dataset\n",
    "\n",
    "In this section, we focus on the efficiency and implementation of the quantum convolution layer as a pre-processing step for the dataset. Here’s a detailed breakdown of the approach:\n",
    "\n",
    "1. **Purpose of Quantum Pre-Processing**:\n",
    "   - The quantum convolution layer is not intended to be trained directly within this setup. Instead, it serves as a pre-processing step for all images in the dataset. By applying this quantum convolution layer upfront, we transform the raw image data into a form that is suitable for subsequent classical machine learning models.\n",
    "\n",
    "2. **Efficiency Considerations**:\n",
    "   - Applying the quantum convolution layer as a pre-processing step enhances efficiency by avoiding redundant quantum computations. Training a classical model on the transformed data eliminates the need for repeated evaluations of the quantum circuit during each training iteration. This approach significantly reduces the computational overhead associated with quantum processing.\n",
    "\n",
    "3. **Saving and Loading Pre-Processed Data**:\n",
    "   - The pre-processed images are stored in a designated folder, specified by `SAVE_PATH`. This storage allows for easy access and reuse of the transformed dataset without reapplying the quantum convolution layer each time the code runs.\n",
    "   - To facilitate flexible usage, you can choose whether to preprocess the data afresh or use pre-processed images. If `PREPROCESS` is set to `False`, the code will load the images from the saved files in `SAVE_PATH`. Conversely, if `PREPROCESS` is set to `True`, the quantum convolution layer is applied to the dataset during each run, ensuring that the latest transformation is used.\n",
    "\n",
    "This approach optimizes computational resources and streamlines the workflow by leveraging quantum computation as a one-time pre-processing step."
   ]
  },
  {
   "cell_type": "code",
   "execution_count": null,
   "id": "bded5668-a0f6-4f14-b085-99e17cde15da",
   "metadata": {
    "tags": []
   },
   "outputs": [
    {
     "name": "stdout",
     "output_type": "stream",
     "text": [
      "Quantum pre-processing of train images:\n",
      "50/50        \n",
      "Quantum pre-processing of test images:\n",
      "25/30        \r"
     ]
    }
   ],
   "source": [
    "if PREPROCESS == True:\n",
    "    q_train_images = []\n",
    "    print(\"Quantum pre-processing of train images:\")\n",
    "    for idx, img in enumerate(train_images):\n",
    "        print(\"{}/{}        \".format(idx + 1, n_train), end=\"\\r\")\n",
    "        q_train_images.append(quanv(img))\n",
    "    q_train_images = np.asarray(q_train_images)\n",
    "\n",
    "    q_test_images = []\n",
    "    print(\"\\nQuantum pre-processing of test images:\")\n",
    "    for idx, img in enumerate(test_images):\n",
    "        print(\"{}/{}        \".format(idx + 1, n_test), end=\"\\r\")\n",
    "        q_test_images.append(quanv(img))\n",
    "    q_test_images = np.asarray(q_test_images)\n",
    "\n",
    "    # Save pre-processed images\n",
    "    np.save(SAVE_PATH + \"q_train_images.npy\", q_train_images)\n",
    "    np.save(SAVE_PATH + \"q_test_images.npy\", q_test_images)\n",
    "\n",
    "\n",
    "# Load pre-processed images\n",
    "q_train_images = np.load(SAVE_PATH + \"q_train_images.npy\")\n",
    "q_test_images = np.load(SAVE_PATH + \"q_test_images.npy\")"
   ]
  },
  {
   "cell_type": "markdown",
   "id": "2ad268d7-8363-4e8e-9605-676fb3702ec9",
   "metadata": {},
   "source": [
    "### Visualization of Quantum Convolution Output\n",
    "\n",
    "After applying the quantum convolution layer to each input image, the resulting four output channels are displayed in grayscale. This visualization reveals several key characteristics:\n",
    "\n",
    "1. **Resolution and Downsampling**:\n",
    "   - The quantum convolution process results in a noticeable reduction in resolution. Each output channel corresponds to a downsampled version of the original image, where the resolution is effectively halved. This is expected behavior for a convolution operation with a \\(2 \\times 2\\) kernel and a stride of 2.\n",
    "\n",
    "2. **Local Distortion**:\n",
    "   - The output channels may exhibit some local distortions due to the quantum convolution kernel's inherent properties. These distortions arise from the quantum processing and differ from standard classical convolution layers.\n",
    "\n",
    "3. **Preservation of Global Structure**:\n",
    "   - Despite the downsampling and local distortions, the global shape and structure of the original image are largely preserved. This preservation is typical of convolution layers, which focus on capturing essential features and patterns within the data.\n",
    "\n"
   ]
  },
  {
   "cell_type": "code",
   "execution_count": null,
   "id": "f418b303-9ffc-46a1-b2cb-52d1e21ac38b",
   "metadata": {
    "tags": []
   },
   "outputs": [],
   "source": [
    "#Let us visualize the effect of the quantum convolution layer on a batch of samples:\n",
    "\n",
    "n_samples = 4\n",
    "n_channels = 4\n",
    "fig, axes = plt.subplots(1 + n_channels, n_samples, figsize=(10, 10))\n",
    "for k in range(n_samples):\n",
    "    axes[0, 0].set_ylabel(\"Input\")\n",
    "    if k != 0:\n",
    "        axes[0, k].yaxis.set_visible(False)\n",
    "    axes[0, k].imshow(train_images[k, :, :, 0], cmap=\"gray\")\n",
    "\n",
    "    # Plot all output channels\n",
    "    for c in range(n_channels):\n",
    "        axes[c + 1, 0].set_ylabel(\"Output [ch. {}]\".format(c))\n",
    "        if k != 0:\n",
    "            axes[c, k].yaxis.set_visible(False)\n",
    "        axes[c + 1, k].imshow(q_train_images[k, :, :, c], cmap=\"gray\")\n",
    "\n",
    "plt.tight_layout()\n",
    "plt.show()"
   ]
  },
  {
   "cell_type": "markdown",
   "id": "d7607606-a42e-4d48-81f8-c823d23946c5",
   "metadata": {},
   "source": [
    "\n",
    "### Hybrid Quantum-Classical Model\n",
    "\n",
    "Following the quantum convolution step, the next phase involves integrating the quantum-processed features into a classical neural network for digit classification. Here’s how this is structured:\n",
    "\n",
    "1. **Model Architecture**:\n",
    "   - The classification model used in this setup is a straightforward neural network comprising a single fully connected (dense) layer. This layer has 10 output nodes, corresponding to the 10 possible digits in the MNIST dataset. A softmax activation function is applied at the output layer to convert the network's raw predictions into class probabilities.\n",
    "\n",
    "2. **Model Compilation**:\n",
    "   - The neural network is compiled with the following configuration:\n",
    "     - **Optimizer**: A stochastic gradient descent (SGD) optimizer is employed to update the model weights based on the loss gradient.\n",
    "     - **Loss Function**: The cross-entropy loss function is used, which is suitable for multi-class classification problems. It measures the difference between the predicted class probabilities and the true class labels.\n",
    "\n",
    "By combining the quantum convolution pre-processing with a classical neural network, this hybrid approach leverages the strengths of both quantum and classical methodologies to achieve effective digit classification on the MNIST dataset."
   ]
  },
  {
   "cell_type": "code",
   "execution_count": null,
   "id": "f7d864e3-dcae-44f1-8995-c70a517df4f0",
   "metadata": {
    "tags": []
   },
   "outputs": [],
   "source": [
    "def MyModel():\n",
    "    \"\"\"Initializes and returns a custom Keras model\n",
    "    which is ready to be trained.\"\"\"\n",
    "    model = keras.models.Sequential([\n",
    "        keras.layers.Flatten(),\n",
    "        keras.layers.Dense(10, activation=\"softmax\")\n",
    "    ])\n",
    "\n",
    "    model.compile(\n",
    "        optimizer='adam',\n",
    "        loss=\"sparse_categorical_crossentropy\",\n",
    "        metrics=[\"accuracy\"],\n",
    "    )\n",
    "    return model"
   ]
  },
  {
   "cell_type": "markdown",
   "id": "a5caae08-571b-4f72-99ff-2050e7361672",
   "metadata": {},
   "source": [
    "### Training the Hybrid Quantum-Classical Model\n",
    "\n",
    "#### Model Initialization\n",
    "The training process begins with initializing the instance of the neural network model. This involves creating a new object of the model class with the specified architecture:\n",
    "\n",
    "- **Model Instance**: We instantiate the neural network, which includes setting up the single fully connected (dense) layer with 10 output nodes and the softmax activation function.\n",
    "\n",
    "#### Training and Validation\n",
    "Once the model is initialized, we proceed with training and validating it using the pre-processed dataset:\n",
    "\n",
    "1. **Dataset Preparation**:\n",
    "   - **Pre-Processed Data**: The dataset used for training and validation has already undergone quantum convolution pre-processing. This means that the input images have been transformed by the quantum convolution layer, resulting in feature maps that serve as the new input data for the neural network.\n",
    "\n",
    "2. **Training Process**:\n",
    "   - **Training Phase**: The model is trained using the pre-processed features from the training set. During this phase, the stochastic gradient descent (SGD) optimizer updates the model weights to minimize the cross-entropy loss function. The model learns to classify the digits based on the processed image features.\n",
    "\n",
    "3. **Validation Phase**:\n",
    "   - **Validation**: After training, the model’s performance is evaluated on a separate validation set. This set contains pre-processed images that were not seen by the model during training. Validation helps assess the model’s generalization ability and ensures it performs well on unseen data.\n",
    "\n",
    "By following this procedure, we leverage the quantum convolution layer’s ability to extract complex features from the MNIST images, while the classical neural network focuses on learning to classify these features accurately. This hybrid approach combines the strengths of quantum processing with traditional machine learning techniques for effective digit classification."
   ]
  },
  {
   "cell_type": "code",
   "execution_count": null,
   "id": "39520520-6f40-45b6-bbe2-add4bab9aa41",
   "metadata": {
    "tags": []
   },
   "outputs": [],
   "source": [
    "q_model = MyModel()\n",
    "\n",
    "q_history = q_model.fit(\n",
    "    q_train_images,\n",
    "    train_labels,\n",
    "    validation_data=(q_test_images, test_labels),\n",
    "    batch_size=4,\n",
    "    epochs=n_epochs,\n",
    "    verbose=0,\n",
    ")"
   ]
  },
  {
   "cell_type": "code",
   "execution_count": null,
   "id": "970710f7-352d-4782-9743-855b2b688112",
   "metadata": {
    "tags": []
   },
   "outputs": [],
   "source": [
    "c_model = MyModel()\n",
    "\n",
    "c_history = c_model.fit(\n",
    "    train_images,\n",
    "    train_labels,\n",
    "    validation_data=(test_images, test_labels),\n",
    "    batch_size=4,\n",
    "    epochs=n_epochs,\n",
    "    verbose=0,\n",
    ")"
   ]
  },
  {
   "cell_type": "markdown",
   "id": "f003dfc6-3c34-4ad8-853f-8e5eebac7f6b",
   "metadata": {},
   "source": [
    "### Comparing Results with and without Quantum Convolution\n",
    "\n",
    "To evaluate the effectiveness of the quantum convolution layer, we conduct a comparison between two models:\n",
    "\n",
    "1. **Quantum-Enhanced Model**:\n",
    "   - **Quantum Pre-Processing**: This model is first pre-processed with the quantum convolution layer. The raw MNIST images are transformed into feature maps by the quantum circuit before being fed into the neural network.\n",
    "   - **Training**: The network is trained and validated using these quantum-processed features.\n",
    "\n",
    "2. **Classical Model**:\n",
    "   - **Direct Training**: In this instance, we initialize a model identical in architecture to the quantum-enhanced one, but it is trained and validated directly on the raw MNIST images without any quantum pre-processing.\n",
    "   - **Pre-Processing**: The input data for this model remains in its original form, and no quantum convolution is applied.\n",
    "\n",
    "#### Steps for Comparison\n",
    "\n",
    "1. **Model Initialization**:\n",
    "   - **Quantum Model**: Initialize the model that includes the quantum convolution pre-processing layer followed by the fully connected layer.\n",
    "   - **Classical Model**: Initialize a similar neural network model but without the quantum convolution pre-processing step.\n",
    "\n",
    "2. **Training**:\n",
    "   - **Quantum Model**: Train the model using the quantum-processed images. This involves feeding the feature maps obtained from the quantum convolution layer into the neural network.\n",
    "   - **Classical Model**: Train the model directly with the raw MNIST images. The training process utilizes standard image data without quantum transformations.\n",
    "\n",
    "3. **Validation**:\n",
    "   - **Quantum Model**: Validate the performance using pre-processed validation images. This checks how well the model generalizes to new data after quantum feature extraction.\n",
    "   - **Classical Model**: Validate the performance using raw MNIST images. This evaluates how well the model performs on the original data without quantum enhancements.\n",
    "\n",
    "By comparing the results from both models, we can assess the impact of the quantum convolution layer on classification performance. This comparison highlights whether the quantum pre-processing offers any advantage over traditional methods or if the classical model achieves comparable results."
   ]
  },
  {
   "cell_type": "markdown",
   "id": "2bbf8787-626f-4e86-9c28-b5ce91ad5217",
   "metadata": {},
   "source": [
    "### Results\n",
    "\n",
    "To evaluate and compare the performance of the quantum-enhanced model and the classical model, we analyze their test accuracy and test loss over the training epochs.\n",
    "\n",
    "#### Plotting Test Accuracy and Test Loss\n",
    "\n",
    "1. **Test Accuracy**:\n",
    "   - **Purpose**: To measure how well each model classifies unseen data after training.\n",
    "   - **Plot Description**: The plot displays the test accuracy as a function of the number of training epochs. Accuracy is calculated as the proportion of correctly classified test samples out of the total test samples.\n",
    "   - **Details**: Each curve on the plot represents the test accuracy for one of the models—quantum-enhanced or classical—over the training process. This helps in understanding how quickly and effectively each model improves in terms of accuracy.\n",
    "\n",
    "2. **Test Loss**:\n",
    "   - **Purpose**: To assess the error or the discrepancy between the predicted and actual labels for the test set.\n",
    "   - **Plot Description**: The plot illustrates the test loss as a function of the number of training epochs. Loss quantifies the difference between the predicted probabilities and the true class labels, with lower values indicating better performance.\n",
    "   - **Details**: Similar to the accuracy plot, each curve represents the test loss for the quantum-enhanced and classical models over the training epochs. This plot reveals how the error rate decreases or changes during training.\n",
    "\n",
    "#### Interpretation\n",
    "\n",
    "- **Accuracy Trends**: Look for which model achieves higher accuracy and if one model converges faster than the other.\n",
    "- **Loss Trends**: Observe which model achieves lower test loss and how the loss value evolves during training.\n",
    "\n",
    "By analyzing these plots, we can draw conclusions about the relative performance of the quantum convolution layer compared to the classical approach, providing insights into the effectiveness and potential benefits of incorporating quantum techniques in machine learning models."
   ]
  },
  {
   "cell_type": "code",
   "execution_count": null,
   "id": "424ff473-7774-492e-95ab-2a61ef344ddb",
   "metadata": {
    "tags": []
   },
   "outputs": [],
   "source": [
    "import matplotlib.pyplot as plt\n",
    "\n",
    "plt.style.use(\"classic\")\n",
    "fig, (ax1, ax2) = plt.subplots(2, 1, figsize=(6, 9))\n",
    "\n",
    "ax1.plot(q_history.history[\"val_accuracy\"], \"-ob\", label=\"With quantum layer\")\n",
    "ax1.plot(c_history.history[\"val_accuracy\"], \"-og\", label=\"Without quantum layer\")\n",
    "ax1.set_ylabel(\"Accuracy\",fontsize=20  )\n",
    "ax1.set_ylim([0, 1])\n",
    "ax1.set_xlabel(\"Epoch\",fontsize=20 )\n",
    "ax1.legend()\n",
    "\n",
    "ax2.plot(q_history.history[\"val_loss\"], \"-ob\", label=\"With quantum layer\")\n",
    "ax2.plot(c_history.history[\"val_loss\"], \"-og\", label=\"Without quantum layer\")\n",
    "ax2.set_ylabel(\"Loss\",fontsize=20 )\n",
    "ax2.set_ylim(top=2.5)\n",
    "ax2.set_xlabel(\"Epoch\",fontsize=20 )\n",
    "ax2.legend()\n",
    "plt.tight_layout()\n",
    "plt.show()\n"
   ]
  },
  {
   "cell_type": "markdown",
   "id": "d4d2dc17-c9fe-48b8-b7f9-78ba424fb952",
   "metadata": {},
   "source": [
    "References¶\n",
    "Maxwell Henderson, Samriddhi Shakya, Shashindra Pradhan, Tristan Cook. “Quanvolutional Neural Networks: Powering Image Recognition with Quantum Circuits.” arXiv:1904.04767, 2019."
   ]
  },
  {
   "cell_type": "code",
   "execution_count": null,
   "id": "ff436f10-ccc0-4b9a-9b7e-7d6b92a3db19",
   "metadata": {
    "tags": []
   },
   "outputs": [],
   "source": [
    "%pip install -q seaborn\n",
    "import matplotlib.pyplot as plt\n",
    "import seaborn as sns\n",
    "\n",
    "# Assuming q_history and c_history are available\n",
    "# Example:\n",
    "# q_history = model_with_quantum_layer.fit(...)  # History object of the quantum-enhanced model\n",
    "# c_history = model_without_quantum_layer.fit(...)  # History object of the classical model\n",
    "\n",
    "# Using seaborn style for better aesthetics\n",
    "plt.style.use(\"classic\")\n",
    "\n",
    "# Creating subplots for accuracy and loss\n",
    "fig, (ax1, ax2) = plt.subplots(2, 1, figsize=(8, 12))\n",
    "\n",
    "# Plotting Test Accuracy\n",
    "ax1.plot(q_history.history[\"val_accuracy\"], \"-ob\", label=\"With quantum layer\")\n",
    "ax1.plot(c_history.history[\"val_accuracy\"], \"-og\", label=\"Without quantum layer\")\n",
    "ax1.set_title(\"Test Accuracy over Epochs\")\n",
    "ax1.set_ylabel(\"Accuracy\")\n",
    "ax1.set_ylim([0, 1])\n",
    "ax1.set_xlabel(\"Epoch\")\n",
    "ax1.legend()\n",
    "ax1.grid(True)\n",
    "\n",
    "# Plotting Test Loss\n",
    "ax2.plot(q_history.history[\"val_loss\"], \"-ob\", label=\"With quantum layer\")\n",
    "ax2.plot(c_history.history[\"val_loss\"], \"-og\", label=\"Without quantum layer\")\n",
    "ax2.set_title(\"Test Loss over Epochs\")\n",
    "ax2.set_ylabel(\"Loss\")\n",
    "ax2.set_ylim(top=2.5)\n",
    "ax2.set_xlabel(\"Epoch\")\n",
    "ax2.legend()\n",
    "ax2.grid(True)\n",
    "\n",
    "# Adjust layout for better spacing\n",
    "plt.tight_layout()\n",
    "\n",
    "# Display the plots\n",
    "plt.show()\n"
   ]
  },
  {
   "cell_type": "code",
   "execution_count": null,
   "id": "ca3c9b0a-bcbd-4905-9e33-e70db85b490f",
   "metadata": {},
   "outputs": [],
   "source": []
  }
 ],
 "metadata": {
  "kernelspec": {
   "display_name": "Python 3 [Pennylane]",
   "language": "python",
   "name": "python3_pennylane_l1hffv"
  },
  "language_info": {
   "codemirror_mode": {
    "name": "ipython",
    "version": 3
   },
   "file_extension": ".py",
   "mimetype": "text/x-python",
   "name": "python",
   "nbconvert_exporter": "python",
   "pygments_lexer": "ipython3",
   "version": "3.9.18"
  }
 },
 "nbformat": 4,
 "nbformat_minor": 5
}
